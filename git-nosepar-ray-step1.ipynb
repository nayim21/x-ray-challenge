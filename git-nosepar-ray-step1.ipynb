{
 "cells": [
  {
   "cell_type": "code",
   "execution_count": 1,
   "id": "f9f1a0f3",
   "metadata": {},
   "outputs": [],
   "source": [
    "import tensorflow as tf\n",
    "import keras\n",
    "from keras.models import Sequential\n",
    "from keras.layers import Dense, Dropout, Flatten\n",
    "from keras.layers import Conv2D, MaxPooling2D\n",
    "from keras.utils import to_categorical\n",
    "from keras.preprocessing import image\n",
    "import numpy as np\n",
    "import pandas as pd\n",
    "import matplotlib.pyplot as plt\n",
    "from PIL import Image\n",
    "import glob\n",
    "import os\n",
    "import shutil\n",
    "from collections import Counter\n",
    "import tensorflow as tf\n",
    "from tensorflow.keras.layers import Conv2D, Conv2DTranspose, UpSampling2D,\\\n",
    "    Dense, Layer, Reshape, InputLayer, Flatten, Input, MaxPooling2D\n",
    "\n",
    "from tqdm import tqdm\n",
    "%matplotlib inline"
   ]
  },
  {
   "cell_type": "code",
   "execution_count": 2,
   "id": "272ee360",
   "metadata": {},
   "outputs": [
    {
     "data": {
      "text/html": [
       "<div>\n",
       "<style scoped>\n",
       "    .dataframe tbody tr th:only-of-type {\n",
       "        vertical-align: middle;\n",
       "    }\n",
       "\n",
       "    .dataframe tbody tr th {\n",
       "        vertical-align: top;\n",
       "    }\n",
       "\n",
       "    .dataframe thead th {\n",
       "        text-align: right;\n",
       "    }\n",
       "</style>\n",
       "<table border=\"1\" class=\"dataframe\">\n",
       "  <thead>\n",
       "    <tr style=\"text-align: right;\">\n",
       "      <th></th>\n",
       "      <th>image_Addr</th>\n",
       "      <th>label_image</th>\n",
       "    </tr>\n",
       "  </thead>\n",
       "  <tbody>\n",
       "    <tr>\n",
       "      <th>0</th>\n",
       "      <td>100120000004.jpg</td>\n",
       "      <td>4.0</td>\n",
       "    </tr>\n",
       "    <tr>\n",
       "      <th>1</th>\n",
       "      <td>100150000077.jpg</td>\n",
       "      <td>5.0</td>\n",
       "    </tr>\n",
       "    <tr>\n",
       "      <th>2</th>\n",
       "      <td>100120000027.jpg</td>\n",
       "      <td>4.0</td>\n",
       "    </tr>\n",
       "    <tr>\n",
       "      <th>3</th>\n",
       "      <td>10030000008.jpg</td>\n",
       "      <td>1.0</td>\n",
       "    </tr>\n",
       "    <tr>\n",
       "      <th>4</th>\n",
       "      <td>10030000045.jpg</td>\n",
       "      <td>1.0</td>\n",
       "    </tr>\n",
       "  </tbody>\n",
       "</table>\n",
       "</div>"
      ],
      "text/plain": [
       "         image_Addr  label_image\n",
       "0  100120000004.jpg          4.0\n",
       "1  100150000077.jpg          5.0\n",
       "2  100120000027.jpg          4.0\n",
       "3   10030000008.jpg          1.0\n",
       "4   10030000045.jpg          1.0"
      ]
     },
     "execution_count": 2,
     "metadata": {},
     "output_type": "execute_result"
    }
   ],
   "source": [
    "Xtrain = pd.read_csv(r'd:\\dataset\\nosepar\\labels_x_ray.csv')    # reading the csv file\n",
    "Xtrain.head()"
   ]
  },
  {
   "cell_type": "code",
   "execution_count": 3,
   "id": "7f14b163",
   "metadata": {},
   "outputs": [
    {
     "name": "stdout",
     "output_type": "stream",
     "text": [
      "<class 'pandas.core.frame.DataFrame'>\n",
      "RangeIndex: 618 entries, 0 to 617\n",
      "Data columns (total 2 columns):\n",
      " #   Column       Non-Null Count  Dtype  \n",
      "---  ------       --------------  -----  \n",
      " 0   image_Addr   618 non-null    object \n",
      " 1   label_image  618 non-null    float64\n",
      "dtypes: float64(1), object(1)\n",
      "memory usage: 9.8+ KB\n"
     ]
    }
   ],
   "source": [
    "Xtrain.info()"
   ]
  },
  {
   "cell_type": "code",
   "execution_count": 4,
   "id": "9bcbc390",
   "metadata": {},
   "outputs": [
    {
     "name": "stderr",
     "output_type": "stream",
     "text": [
      "100%|███████████████████████████████████████████████████████████████████████████████| 618/618 [00:06<00:00, 102.10it/s]\n",
      "100%|███████████████████████████████████████████████████████████████████████████████| 618/618 [00:04<00:00, 152.69it/s]\n",
      "100%|████████████████████████████████████████████████████████████████████████████████| 618/618 [00:06<00:00, 95.54it/s]\n",
      "100%|███████████████████████████████████████████████████████████████████████████████| 618/618 [00:03<00:00, 172.10it/s]\n",
      " 30%|███████████████████████▉                                                       | 187/618 [00:00<00:01, 256.14it/s]C:\\ProgramData\\Anaconda3\\lib\\site-packages\\PIL\\Image.py:959: UserWarning: Palette images with Transparency expressed in bytes should be converted to RGBA images\n",
      "  warnings.warn(\n",
      "100%|███████████████████████████████████████████████████████████████████████████████| 618/618 [00:03<00:00, 181.84it/s]\n"
     ]
    }
   ],
   "source": [
    "train1_image = []\n",
    "for i in tqdm(range(Xtrain.shape[0])):\n",
    "    if  (Xtrain['label_image'][i] ==1):\n",
    "        img = tf.keras.utils.load_img('D:/dataset/nosepar/Xray/Xray/'+Xtrain['image_Addr'][i],target_size=(64,64,3))\n",
    "        img = tf.keras.utils.img_to_array(img)\n",
    "        img = img/255\n",
    "        train1_image.append(img)\n",
    "        tf.keras.utils.save_img('D:/dataset/nosepar/xray-train/xray1/'+Xtrain['image_Addr'][i],img)\n",
    "X1 = np.array(train1_image)\n",
    "\n",
    "train2_image = []\n",
    "for i in tqdm(range(Xtrain.shape[0])):\n",
    "    if  (Xtrain['label_image'][i] ==2):\n",
    "        img = tf.keras.utils.load_img('D:/dataset/nosepar/Xray/Xray/'+Xtrain['image_Addr'][i],target_size=(64,64,3))\n",
    "        img = tf.keras.utils.img_to_array(img)\n",
    "        img = img/255\n",
    "        train2_image.append(img)\n",
    "        tf.keras.utils.save_img('D:/dataset/nosepar/xray-train/xray2/'+Xtrain['image_Addr'][i],img)\n",
    "X2 = np.array(train2_image)\n",
    "\n",
    "train3_image = []\n",
    "for i in tqdm(range(Xtrain.shape[0])):\n",
    "    if  (Xtrain['label_image'][i] ==3):\n",
    "        img = tf.keras.utils.load_img('D:/dataset/nosepar/Xray/Xray/'+Xtrain['image_Addr'][i],target_size=(64,64,3))\n",
    "        img = tf.keras.utils.img_to_array(img)\n",
    "        img = img/255\n",
    "        train3_image.append(img)\n",
    "        tf.keras.utils.save_img('D:/dataset/nosepar/xray-train/xray3/'+Xtrain['image_Addr'][i],img)\n",
    "X3 = np.array(train3_image)\n",
    "\n",
    "train4_image = []\n",
    "for i in tqdm(range(Xtrain.shape[0])):\n",
    "    if  (Xtrain['label_image'][i] ==4):\n",
    "        img = tf.keras.utils.load_img('D:/dataset/nosepar/Xray/Xray/'+Xtrain['image_Addr'][i],target_size=(64,64,3))\n",
    "        img = tf.keras.utils.img_to_array(img)\n",
    "        img = img/255\n",
    "        train4_image.append(img)\n",
    "        tf.keras.utils.save_img('D:/dataset/nosepar/xray-train/xray4/'+Xtrain['image_Addr'][i],img)\n",
    "X4 = np.array(train4_image)\n",
    "\n",
    "train5_image = []\n",
    "for i in tqdm(range(Xtrain.shape[0])):\n",
    "    if  (Xtrain['label_image'][i] ==5):\n",
    "        img = tf.keras.utils.load_img('D:/dataset/nosepar/Xray/Xray/'+Xtrain['image_Addr'][i],target_size=(64,64,3))\n",
    "        img = tf.keras.utils.img_to_array(img)\n",
    "        img = img/255\n",
    "        train5_image.append(img)\n",
    "        tf.keras.utils.save_img('D:/dataset/nosepar/xray-train/xray5/'+Xtrain['image_Addr'][i],img)\n",
    "X5= np.array(train5_image)\n",
    "\n",
    "\n"
   ]
  },
  {
   "cell_type": "code",
   "execution_count": 5,
   "id": "6baf6734",
   "metadata": {},
   "outputs": [
    {
     "data": {
      "text/plain": [
       "(137, 64, 64, 3)"
      ]
     },
     "execution_count": 5,
     "metadata": {},
     "output_type": "execute_result"
    }
   ],
   "source": [
    "X1.shape"
   ]
  },
  {
   "cell_type": "code",
   "execution_count": 6,
   "id": "668fc815",
   "metadata": {},
   "outputs": [
    {
     "data": {
      "text/plain": [
       "(112, 64, 64, 3)"
      ]
     },
     "execution_count": 6,
     "metadata": {},
     "output_type": "execute_result"
    }
   ],
   "source": [
    "X2.shape"
   ]
  },
  {
   "cell_type": "code",
   "execution_count": 7,
   "id": "c05b82ce",
   "metadata": {},
   "outputs": [
    {
     "data": {
      "text/plain": [
       "(135, 64, 64, 3)"
      ]
     },
     "execution_count": 7,
     "metadata": {},
     "output_type": "execute_result"
    }
   ],
   "source": [
    "X3.shape"
   ]
  },
  {
   "cell_type": "code",
   "execution_count": 8,
   "id": "14d1aac5",
   "metadata": {},
   "outputs": [
    {
     "data": {
      "text/plain": [
       "(119, 64, 64, 3)"
      ]
     },
     "execution_count": 8,
     "metadata": {},
     "output_type": "execute_result"
    }
   ],
   "source": [
    "X4.shape"
   ]
  },
  {
   "cell_type": "code",
   "execution_count": 9,
   "id": "25fba5d9",
   "metadata": {},
   "outputs": [
    {
     "data": {
      "text/plain": [
       "(115, 64, 64, 3)"
      ]
     },
     "execution_count": 9,
     "metadata": {},
     "output_type": "execute_result"
    }
   ],
   "source": [
    "X5.shape"
   ]
  },
  {
   "cell_type": "code",
   "execution_count": 10,
   "id": "a1bbab54",
   "metadata": {},
   "outputs": [],
   "source": [
    "path_train = 'D:/dataset/nosepar/xray-train/xray1/'\n"
   ]
  },
  {
   "cell_type": "code",
   "execution_count": 62,
   "id": "a28e3088",
   "metadata": {},
   "outputs": [
    {
     "name": "stdout",
     "output_type": "stream",
     "text": [
      "Empty DataFrame\n",
      "Columns: [add_img]\n",
      "Index: []\n"
     ]
    }
   ],
   "source": [
    "\n",
    "Xoutlier = pd.DataFrame(columns=['add_img']) \n",
    "print(Xoutlier)"
   ]
  },
  {
   "cell_type": "code",
   "execution_count": 71,
   "id": "c697028b",
   "metadata": {},
   "outputs": [
    {
     "name": "stdout",
     "output_type": "stream",
     "text": [
      "number of all image in xray1 : 94\n",
      "number of outlier for xray1 : 58\n",
      "number of not outlier image in xray1 : 36\n",
      "100300010058.png\n"
     ]
    }
   ],
   "source": [
    "########## Number  1\n",
    "import os, os.path\n",
    "j=0\n",
    "i=0\n",
    "z=0\n",
    "path_train = 'D:/dataset/nosepar/xray1/'\n",
    "out_path ='D:/dataset/nosepar/outlier1/'\n",
    "in_path ='D:/dataset/nosepar/eval1/'\n",
    "for filename in (os.listdir(path_train)):\n",
    "    i=i+1\n",
    "    file = (os.path.join(path_train, filename))\n",
    "    img = Image.open(file)\n",
    "    if img.getcolors() == None :\n",
    "        newpath = os.path.join(out_path,str(filename))\n",
    "        img.save(newpath) \n",
    "        #add img address to end of csv file\n",
    "        Xoutlier.loc[len(Xoutlier),'add_img']=filename\n",
    "        j=j+1\n",
    "\n",
    "    else :\n",
    "        newpath1=os.path.join(in_path,str(filename))\n",
    "        z=z+1\n",
    "        img.save(newpath1)\n",
    "        \n",
    "        \n",
    "print(\"number of all image in xray1 :\",i)      \n",
    "print(\"number of outlier for xray1 :\",j) \n",
    "print(\"number of not outlier image in xray1 :\",z) \n"
   ]
  },
  {
   "cell_type": "code",
   "execution_count": 72,
   "id": "97ea8147",
   "metadata": {},
   "outputs": [],
   "source": [
    "Xoutlier.to_csv(r'd:\\dataset\\nosepar\\Outlier.csv',index=False)\n"
   ]
  },
  {
   "cell_type": "code",
   "execution_count": 83,
   "id": "7c7e751f",
   "metadata": {},
   "outputs": [
    {
     "name": "stdout",
     "output_type": "stream",
     "text": [
      "number of all image in xray1 : 94\n",
      "number of outlier for xray1 : 35\n",
      "number of not outlier image in xray1 : 59\n"
     ]
    }
   ],
   "source": [
    "##########  APPROACH NUMBER 4\n",
    "import os, os.path\n",
    "import cv2\n",
    "j=0\n",
    "i=0\n",
    "z=0\n",
    "metric=[]\n",
    "path_train = 'D:/dataset/nosepar/xray1/'\n",
    "out_path ='D:/dataset/nosepar/outlier3/'\n",
    "in_path ='D:/dataset/nosepar/eval3/'\n",
    "original_img = cv2.imread(\"d:/raytest2.jpg\")\n",
    "\n",
    "Xoutlier4 = pd.DataFrame(columns=['add_img']) \n",
    "#print(Xoutlier4)\n",
    "for filename in (os.listdir(path_train)):\n",
    "    i=i+1\n",
    "    file = (os.path.join(path_train, filename))\n",
    "    temp_img=cv2.imread(file)\n",
    "    hist_img1 = cv2.calcHist([original_img], [0, 1, 2], None, [256, 256, 256], [0, 256, 0, 256, 0, 256])\n",
    "    cv2.normalize(hist_img1, hist_img1, alpha=0, beta=1, norm_type=cv2.NORM_MINMAX)\n",
    "    hist_img2 = cv2.calcHist([temp_img], [0, 1, 2], None, [256, 256, 256], [0, 256, 0, 256, 0, 256])\n",
    "    cv2.normalize(hist_img2, hist_img2, alpha=0, beta=1, norm_type=cv2.NORM_MINMAX)\n",
    "    metric_val = cv2.compareHist(hist_img1, hist_img2, cv2.HISTCMP_CORREL)\n",
    "    if metric_val < 0.01 :\n",
    "        Xoutlier4.loc[len(Xoutlier4),'add_img']=filename\n",
    "        j=j+1\n",
    "        newpath = os.path.join(out_path,str(filename))\n",
    "        img = tf.keras.utils.array_to_img(temp_img)\n",
    "        img.save(newpath)\n",
    "        \n",
    "    else :\n",
    "        newpath1=os.path.join(in_path,str(filename))\n",
    "        img = tf.keras.utils.array_to_img(temp_img)\n",
    "        img.save(newpath1) \n",
    "        z=z+1\n",
    "        \n",
    "print(\"number of all image in xray1 :\",i)      \n",
    "print(\"number of outlier for xray1 :\",j) \n",
    "print(\"number of not outlier image in xray1 :\",z)     \n",
    "    "
   ]
  },
  {
   "cell_type": "code",
   "execution_count": 84,
   "id": "c561e1a6",
   "metadata": {},
   "outputs": [],
   "source": [
    "Xoutlier4.to_csv(r'd:\\dataset\\nosepar\\Outlier4.csv',index=False)"
   ]
  },
  {
   "cell_type": "code",
   "execution_count": null,
   "id": "d5c36ed9",
   "metadata": {},
   "outputs": [],
   "source": []
  }
 ],
 "metadata": {
  "kernelspec": {
   "display_name": "Python 3 (ipykernel)",
   "language": "python",
   "name": "python3"
  },
  "language_info": {
   "codemirror_mode": {
    "name": "ipython",
    "version": 3
   },
   "file_extension": ".py",
   "mimetype": "text/x-python",
   "name": "python",
   "nbconvert_exporter": "python",
   "pygments_lexer": "ipython3",
   "version": "3.9.13"
  }
 },
 "nbformat": 4,
 "nbformat_minor": 5
}
